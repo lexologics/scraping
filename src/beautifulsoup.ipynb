{
 "cells": [
  {
   "cell_type": "code",
   "execution_count": 42,
   "metadata": {},
   "outputs": [],
   "source": [
    "import requests # pip install requests\n",
    "from bs4 import BeautifulSoup as bs # pip install beautifulsoup4\n",
    "import pandas as pd\n",
    "import re"
   ]
  },
  {
   "cell_type": "code",
   "execution_count": 2,
   "metadata": {
    "scrolled": true,
    "tags": []
   },
   "outputs": [
    {
     "name": "stdout",
     "output_type": "stream",
     "text": [
      "<html>\n",
      " <head>\n",
      "  <title>\n",
      "   HTML Example\n",
      "  </title>\n",
      " </head>\n",
      " <body>\n",
      "  <div align=\"middle\">\n",
      "   <h1>\n",
      "    HTML Webpage\n",
      "   </h1>\n",
      "   <p>\n",
      "    Link to more interesting example:\n",
      "    <a href=\"https://keithgalli.github.io/web-scraping/webpage.html\">\n",
      "     keithgalli.github.io/web-scraping/webpage.html\n",
      "    </a>\n",
      "   </p>\n",
      "  </div>\n",
      "  <h2>\n",
      "   A Header\n",
      "  </h2>\n",
      "  <p>\n",
      "   <i>\n",
      "    Some italicized text\n",
      "   </i>\n",
      "  </p>\n",
      "  <h2>\n",
      "   Another header\n",
      "  </h2>\n",
      "  <p id=\"paragraph-id\">\n",
      "   <b>\n",
      "    Some bold text\n",
      "   </b>\n",
      "  </p>\n",
      " </body>\n",
      "</html>\n",
      "\n"
     ]
    }
   ],
   "source": [
    "# Load the webpage content\n",
    "r = requests.get('https://keithgalli.github.io/web-scraping/example.html')\n",
    "#r = requests.get('https://www.youtube.com/lexologics/video')\n",
    "\n",
    "# Convert to a Beautifulsoup object\n",
    "soup = bs(r.content)\n",
    "\n",
    "# Print out our html\n",
    "print(soup.prettify())"
   ]
  },
  {
   "cell_type": "markdown",
   "metadata": {},
   "source": [
    "# Start using Beautiful Soup to Scrape"
   ]
  },
  {
   "cell_type": "code",
   "execution_count": null,
   "metadata": {},
   "outputs": [],
   "source": [
    "first_header = soup.find('h2')\n",
    "first_header"
   ]
  },
  {
   "cell_type": "code",
   "execution_count": null,
   "metadata": {},
   "outputs": [],
   "source": [
    "headers = soup.find_all('h2')\n",
    "headers"
   ]
  },
  {
   "cell_type": "code",
   "execution_count": null,
   "metadata": {},
   "outputs": [],
   "source": [
    "# Pass in a list of elements to look for\n",
    "first_header = soup.find(['h1', 'h2'])\n",
    "first_header"
   ]
  },
  {
   "cell_type": "code",
   "execution_count": null,
   "metadata": {},
   "outputs": [],
   "source": [
    "first_header = soup.find(['h2', 'h1'])\n",
    "first_header   # exact the same output as cell 13, h1 is the first the is find"
   ]
  },
  {
   "cell_type": "code",
   "execution_count": null,
   "metadata": {},
   "outputs": [],
   "source": [
    "headers = soup.find_all(['h1', 'h2'])\n",
    "headers"
   ]
  },
  {
   "cell_type": "code",
   "execution_count": null,
   "metadata": {},
   "outputs": [],
   "source": [
    "# You can pass in attributes to the find/find_all function\n",
    "paragraph = soup.find_all('p')\n",
    "paragraph"
   ]
  },
  {
   "cell_type": "code",
   "execution_count": null,
   "metadata": {},
   "outputs": [],
   "source": [
    "paragraph = soup.find_all('p', attrs={'id': 'paragraph-id'})\n",
    "paragraph"
   ]
  },
  {
   "cell_type": "code",
   "execution_count": null,
   "metadata": {},
   "outputs": [],
   "source": [
    "# You can nest find/find_all calls\n",
    "body = soup.find('body')\n",
    "body"
   ]
  },
  {
   "cell_type": "code",
   "execution_count": null,
   "metadata": {},
   "outputs": [],
   "source": [
    "div = body.find('div')\n",
    "div"
   ]
  },
  {
   "cell_type": "code",
   "execution_count": null,
   "metadata": {},
   "outputs": [],
   "source": [
    "header = div.find('h1')\n",
    "header"
   ]
  },
  {
   "cell_type": "code",
   "execution_count": null,
   "metadata": {},
   "outputs": [],
   "source": [
    "# We can search specific strings in our find/find_all calls\n",
    "paragraph = soup.find_all('p', string='Some')\n",
    "paragraph"
   ]
  },
  {
   "cell_type": "code",
   "execution_count": null,
   "metadata": {},
   "outputs": [],
   "source": [
    "paragraph = soup.find_all('p', string='Some bold text')\n",
    "paragraph"
   ]
  },
  {
   "cell_type": "code",
   "execution_count": null,
   "metadata": {},
   "outputs": [],
   "source": [
    "import re\n",
    "\n",
    "paragraph = soup.find_all('p', string=re.compile('Some'))\n",
    "paragraph"
   ]
  },
  {
   "cell_type": "code",
   "execution_count": null,
   "metadata": {},
   "outputs": [],
   "source": [
    "headers = soup.find_all('h2', string=re.compile('header'))\n",
    "headers"
   ]
  },
  {
   "cell_type": "code",
   "execution_count": null,
   "metadata": {},
   "outputs": [],
   "source": [
    "headers = soup.find_all('h2', string=re.compile('(H|h)eader'))  # (H|h) = regex\n",
    "headers"
   ]
  },
  {
   "cell_type": "markdown",
   "metadata": {},
   "source": [
    "### select (CSS selector)"
   ]
  },
  {
   "cell_type": "code",
   "execution_count": null,
   "metadata": {},
   "outputs": [],
   "source": [
    "content = soup.select('p')\n",
    "content"
   ]
  },
  {
   "cell_type": "code",
   "execution_count": null,
   "metadata": {},
   "outputs": [],
   "source": [
    "content = soup.select('div p')\n",
    "content"
   ]
  },
  {
   "cell_type": "code",
   "execution_count": null,
   "metadata": {},
   "outputs": [],
   "source": [
    "content = soup.select('div p a')\n",
    "content"
   ]
  },
  {
   "cell_type": "code",
   "execution_count": null,
   "metadata": {},
   "outputs": [],
   "source": [
    "paragraph = soup.select('h2 ~ p')\n",
    "paragraph"
   ]
  },
  {
   "cell_type": "code",
   "execution_count": null,
   "metadata": {},
   "outputs": [],
   "source": [
    "bold_text = soup.select('p#paragraph-id b')\n",
    "bold_text"
   ]
  },
  {
   "cell_type": "code",
   "execution_count": null,
   "metadata": {},
   "outputs": [],
   "source": [
    "paragraphs = soup.select('body > p')\n",
    "print(paragraphs)\n",
    "\n",
    "for paragraph in paragraphs:\n",
    "    print(paragraph.select('i'))"
   ]
  },
  {
   "cell_type": "code",
   "execution_count": null,
   "metadata": {},
   "outputs": [],
   "source": [
    "# Grab by element wit specific property\n",
    "soup.select('[align=middle]')"
   ]
  },
  {
   "cell_type": "markdown",
   "metadata": {},
   "source": [
    "## Get different properties of the HTML"
   ]
  },
  {
   "cell_type": "code",
   "execution_count": null,
   "metadata": {},
   "outputs": [],
   "source": [
    "header = soup.find('h2')\n",
    "header"
   ]
  },
  {
   "cell_type": "code",
   "execution_count": null,
   "metadata": {},
   "outputs": [],
   "source": [
    "header.string"
   ]
  },
  {
   "cell_type": "code",
   "execution_count": null,
   "metadata": {},
   "outputs": [],
   "source": [
    "# If multiple child elements use get_text\n",
    "div = soup.find('div')\n",
    "print(div.prettify())"
   ]
  },
  {
   "cell_type": "code",
   "execution_count": null,
   "metadata": {},
   "outputs": [],
   "source": [
    "print(div.string)"
   ]
  },
  {
   "cell_type": "code",
   "execution_count": null,
   "metadata": {},
   "outputs": [],
   "source": [
    "print(div.get_text())"
   ]
  },
  {
   "cell_type": "code",
   "execution_count": null,
   "metadata": {},
   "outputs": [],
   "source": [
    "# Get a specific property from an element\n",
    "link = soup.find('a')\n",
    "link"
   ]
  },
  {
   "cell_type": "code",
   "execution_count": null,
   "metadata": {},
   "outputs": [],
   "source": [
    "link['href']"
   ]
  },
  {
   "cell_type": "code",
   "execution_count": null,
   "metadata": {},
   "outputs": [],
   "source": [
    "paragraphs = soup.select('p#paragraph-id')\n",
    "paragraphs[0]['id']"
   ]
  },
  {
   "cell_type": "markdown",
   "metadata": {},
   "source": [
    "### Code navigation"
   ]
  },
  {
   "cell_type": "code",
   "execution_count": null,
   "metadata": {},
   "outputs": [],
   "source": [
    "# Path Syntax\n",
    "soup.body"
   ]
  },
  {
   "cell_type": "code",
   "execution_count": null,
   "metadata": {},
   "outputs": [],
   "source": [
    "soup.body.div"
   ]
  },
  {
   "cell_type": "code",
   "execution_count": null,
   "metadata": {},
   "outputs": [],
   "source": [
    "soup.body.div.h1"
   ]
  },
  {
   "cell_type": "code",
   "execution_count": null,
   "metadata": {},
   "outputs": [],
   "source": [
    "soup.body.div.h1.string"
   ]
  },
  {
   "cell_type": "code",
   "execution_count": null,
   "metadata": {},
   "outputs": [],
   "source": [
    "# Know the terms: Parent, Sibling, Child\n",
    "\n",
    "soup.body.find('div').find_next_siblings()"
   ]
  },
  {
   "cell_type": "markdown",
   "metadata": {},
   "source": [
    "# Exerises\n",
    "# Exersice 1"
   ]
  },
  {
   "cell_type": "code",
   "execution_count": 4,
   "metadata": {
    "collapsed": true
   },
   "outputs": [
    {
     "name": "stdout",
     "output_type": "stream",
     "text": [
      "<html>\n",
      " <head>\n",
      "  <title>\n",
      "   Keith Galli's Page\n",
      "  </title>\n",
      "  <style>\n",
      "   table {\n",
      "    border-collapse: collapse;\n",
      "  }\n",
      "  th {\n",
      "    padding:5px;\n",
      "  }\n",
      "  td {\n",
      "    border: 1px solid #ddd;\n",
      "    padding: 5px;\n",
      "  }\n",
      "  tr:nth-child(even) {\n",
      "    background-color: #f2f2f2;\n",
      "  }\n",
      "  th {\n",
      "    padding-top: 12px;\n",
      "    padding-bottom: 12px;\n",
      "    text-align: left;\n",
      "    background-color: #add8e6;\n",
      "    color: black;\n",
      "  }\n",
      "  .block {\n",
      "  width: 100px;\n",
      "  /*float: left;*/\n",
      "    display: inline-block;\n",
      "    zoom: 1;\n",
      "  }\n",
      "  .column {\n",
      "  float: left;\n",
      "  height: 200px;\n",
      "  /*width: 33.33%;*/\n",
      "  padding: 5px;\n",
      "  }\n",
      "\n",
      "  .row::after {\n",
      "    content: \"\";\n",
      "    clear: both;\n",
      "    display: table;\n",
      "  }\n",
      "  </style>\n",
      " </head>\n",
      " <body>\n",
      "  <h1>\n",
      "   Welcome to my page!\n",
      "  </h1>\n",
      "  <img src=\"./images/selfie1.jpg\" width=\"300px\"/>\n",
      "  <h2>\n",
      "   About me\n",
      "  </h2>\n",
      "  <p>\n",
      "   Hi, my name is Keith and I am a YouTuber who focuses on content related to programming, data science, and machine learning!\n",
      "  </p>\n",
      "  <p>\n",
      "   Here is a link to my channel:\n",
      "   <a href=\"https://www.youtube.com/kgmit\">\n",
      "    youtube.com/kgmit\n",
      "   </a>\n",
      "  </p>\n",
      "  <p>\n",
      "   I grew up in the great state of New Hampshire here in the USA. From an early age I always loved math. Around my senior year of high school, my brother first introduced me to programming. I found it a creative way to apply the same type of logical thinking skills that I enjoyed with math. This influenced me to study computer science in college and ultimately create a YouTube channel to share some things that I have learned along the way.\n",
      "  </p>\n",
      "  <h3>\n",
      "   Hobbies\n",
      "  </h3>\n",
      "  <p>\n",
      "   Believe it or not, I don't code 24/7. I love doing all sorts of active things. I like to play ice hockey &amp; table tennis as well as run, hike, skateboard, and snowboard. In addition to sports, I am a board game enthusiast. The two that I've been playing the most recently are\n",
      "   <i>\n",
      "    Settlers of Catan\n",
      "   </i>\n",
      "   and\n",
      "   <i>\n",
      "    Othello\n",
      "   </i>\n",
      "   .\n",
      "  </p>\n",
      "  <h3>\n",
      "   Fun Facts\n",
      "  </h3>\n",
      "  <ul class=\"fun-facts\">\n",
      "   <li>\n",
      "    Owned my dream car in high school\n",
      "    <a href=\"#footer\">\n",
      "     <sup>\n",
      "      1\n",
      "     </sup>\n",
      "    </a>\n",
      "   </li>\n",
      "   <li>\n",
      "    Middle name is Ronald\n",
      "   </li>\n",
      "   <li>\n",
      "    Never had been on a plane until college\n",
      "   </li>\n",
      "   <li>\n",
      "    Dunkin Donuts coffee is better than Starbucks\n",
      "   </li>\n",
      "   <li>\n",
      "    A favorite book series of mine is\n",
      "    <i>\n",
      "     Ender's Game\n",
      "    </i>\n",
      "   </li>\n",
      "   <li>\n",
      "    Current video game of choice is\n",
      "    <i>\n",
      "     Rocket League\n",
      "    </i>\n",
      "   </li>\n",
      "   <li>\n",
      "    The band that I've seen the most times live is the\n",
      "    <i>\n",
      "     Zac Brown Band\n",
      "    </i>\n",
      "   </li>\n",
      "  </ul>\n",
      "  <h2>\n",
      "   Social Media\n",
      "  </h2>\n",
      "  I encourage you to check out my content on all social media platforms\n",
      "  <br/>\n",
      "  <ul class=\"socials\">\n",
      "   <li class=\"social instagram\">\n",
      "    <b>\n",
      "     Instagram:\n",
      "    </b>\n",
      "    <a href=\"https://www.instagram.com/keithgalli/\">\n",
      "     https://www.instagram.com/keithgalli/\n",
      "    </a>\n",
      "   </li>\n",
      "   <li class=\"social twitter\">\n",
      "    <b>\n",
      "     Twitter:\n",
      "    </b>\n",
      "    <a href=\"https://twitter.com/keithgalli\">\n",
      "     https://twitter.com/keithgalli\n",
      "    </a>\n",
      "   </li>\n",
      "   <li class=\"social linkedin\">\n",
      "    <b>\n",
      "     LinkedIn:\n",
      "    </b>\n",
      "    <a href=\"https://www.linkedin.com/in/keithgalli/\">\n",
      "     https://www.linkedin.com/in/keithgalli/\n",
      "    </a>\n",
      "   </li>\n",
      "   <li class=\"social tiktok\">\n",
      "    <b>\n",
      "     TikTok:\n",
      "    </b>\n",
      "    <a href=\"https://www.tiktok.com/@keithgalli\">\n",
      "     https://www.tiktok.com/@keithgalli\n",
      "    </a>\n",
      "   </li>\n",
      "  </ul>\n",
      "  <h2>\n",
      "   Photos\n",
      "  </h2>\n",
      "  Here are a few photos from a trip to italy I took last year\n",
      "  <div class=\"row\">\n",
      "   <div class=\"column\">\n",
      "    <img alt=\"Lake Como\" src=\"images/italy/lake_como.jpg\" style=\"height:100%\"/>\n",
      "   </div>\n",
      "   <div class=\"column\">\n",
      "    <img alt=\"Pontevecchio, Florence\" src=\"images/italy/pontevecchio.jpg\" style=\"height:100%\"/>\n",
      "   </div>\n",
      "   <div class=\"column\">\n",
      "    <img alt=\"Riomaggiore, Cinque de Terre\" src=\"images/italy/riomaggiore.jpg\" style=\"height:100%\"/>\n",
      "   </div>\n",
      "  </div>\n",
      "  <div>\n",
      "  </div>\n",
      "  <h2>\n",
      "   Table\n",
      "  </h2>\n",
      "  My MIT hockey stats :)\n",
      "  <br/>\n",
      "  <table class=\"hockey-stats\">\n",
      "   <thead>\n",
      "    <tr>\n",
      "     <th class=\"season\" data-sort=\"\">\n",
      "      S\n",
      "     </th>\n",
      "     <th class=\"team\" data-sort=\"team\">\n",
      "      Team\n",
      "     </th>\n",
      "     <th class=\"league\" data-sort=\"league\">\n",
      "      League\n",
      "     </th>\n",
      "     <th class=\"regular gp\" data-sort=\"gp\">\n",
      "      GP\n",
      "     </th>\n",
      "     <th class=\"regular g\" data-sort=\"g\">\n",
      "      G\n",
      "     </th>\n",
      "     <th class=\"regular a\" data-sort=\"a\">\n",
      "      A\n",
      "     </th>\n",
      "     <th class=\"regular tp\" data-sort=\"tp\">\n",
      "      TP\n",
      "     </th>\n",
      "     <th class=\"regular pim\" data-sort=\"pim\">\n",
      "      PIM\n",
      "     </th>\n",
      "     <th class=\"regular pm\" data-sort=\"pm\">\n",
      "      +/-\n",
      "     </th>\n",
      "     <th class=\"separator\">\n",
      "     </th>\n",
      "     <th class=\"postseason\">\n",
      "      POST\n",
      "     </th>\n",
      "     <th class=\"postseason gp\" data-sort=\"playoffs-gp\">\n",
      "      GP\n",
      "     </th>\n",
      "     <th class=\"postseason g\" data-sort=\"playoffs-g\">\n",
      "      G\n",
      "     </th>\n",
      "     <th class=\"postseason a\" data-sort=\"playoffs-a\">\n",
      "      A\n",
      "     </th>\n",
      "     <th class=\"postseason tp\" data-sort=\"playoffs-tp\">\n",
      "      TP\n",
      "     </th>\n",
      "     <th class=\"postseason pim\" data-sort=\"playoffs-pim\">\n",
      "      PIM\n",
      "     </th>\n",
      "     <th class=\"postseason pm\" data-sort=\"playoffs-pm\">\n",
      "      +/-\n",
      "     </th>\n",
      "    </tr>\n",
      "   </thead>\n",
      "   <tbody>\n",
      "    <tr class=\"team-continent-NA\">\n",
      "     <td class=\"season sorted\">\n",
      "      2014-15\n",
      "     </td>\n",
      "     <td class=\"team\">\n",
      "      <i>\n",
      "       <img src=\"images/flag.png\"/>\n",
      "      </i>\n",
      "      <span class=\"txt-blue\">\n",
      "       <a href=\"https://www.eliteprospects.com/team/10263/mit-mass.-inst.-of-tech./2014-2015?tab=stats\">\n",
      "        MIT (Mass. Inst. of Tech.)\n",
      "       </a>\n",
      "      </span>\n",
      "     </td>\n",
      "     <td class=\"league\">\n",
      "      <a href=\"https://www.eliteprospects.com/league/acha-ii/stats/2014-2015\">\n",
      "       ACHA II\n",
      "      </a>\n",
      "     </td>\n",
      "     <td class=\"regular gp\">\n",
      "      17\n",
      "     </td>\n",
      "     <td class=\"regular g\">\n",
      "      3\n",
      "     </td>\n",
      "     <td class=\"regular a\">\n",
      "      9\n",
      "     </td>\n",
      "     <td class=\"regular tp\">\n",
      "      12\n",
      "     </td>\n",
      "     <td class=\"regular pim\">\n",
      "      20\n",
      "     </td>\n",
      "     <td class=\"regular pm\">\n",
      "     </td>\n",
      "     <td class=\"separator\">\n",
      "      |\n",
      "     </td>\n",
      "     <td class=\"postseason\">\n",
      "      <a href=\"https://www.eliteprospects.com/league/acha-ii/stats/2014-2015\">\n",
      "      </a>\n",
      "     </td>\n",
      "     <td class=\"postseason gp\">\n",
      "     </td>\n",
      "     <td class=\"postseason g\">\n",
      "     </td>\n",
      "     <td class=\"postseason a\">\n",
      "     </td>\n",
      "     <td class=\"postseason tp\">\n",
      "     </td>\n",
      "     <td class=\"postseason pim\">\n",
      "     </td>\n",
      "     <td class=\"postseason pm\">\n",
      "     </td>\n",
      "    </tr>\n",
      "    <tr class=\"team-continent-NA\">\n",
      "     <td class=\"season sorted\">\n",
      "      2015-16\n",
      "     </td>\n",
      "     <td class=\"team\">\n",
      "      <i>\n",
      "       <img src=\"images/flag.png\"/>\n",
      "      </i>\n",
      "      <span class=\"txt-blue\">\n",
      "       <a href=\"https://www.eliteprospects.com/team/10263/mit-mass.-inst.-of-tech./2015-2016?tab=stats\">\n",
      "        MIT (Mass. Inst. of Tech.)\n",
      "       </a>\n",
      "      </span>\n",
      "     </td>\n",
      "     <td class=\"league\">\n",
      "      <a href=\"https://www.eliteprospects.com/league/acha-ii/stats/2015-2016\">\n",
      "       ACHA II\n",
      "      </a>\n",
      "     </td>\n",
      "     <td class=\"regular gp\">\n",
      "      9\n",
      "     </td>\n",
      "     <td class=\"regular g\">\n",
      "      1\n",
      "     </td>\n",
      "     <td class=\"regular a\">\n",
      "      1\n",
      "     </td>\n",
      "     <td class=\"regular tp\">\n",
      "      2\n",
      "     </td>\n",
      "     <td class=\"regular pim\">\n",
      "      2\n",
      "     </td>\n",
      "     <td class=\"regular pm\">\n",
      "     </td>\n",
      "     <td class=\"separator\">\n",
      "      |\n",
      "     </td>\n",
      "     <td class=\"postseason\">\n",
      "      <a href=\"https://www.eliteprospects.com/league/acha-ii/stats/2015-2016\">\n",
      "      </a>\n",
      "     </td>\n",
      "     <td class=\"postseason gp\">\n",
      "     </td>\n",
      "     <td class=\"postseason g\">\n",
      "     </td>\n",
      "     <td class=\"postseason a\">\n",
      "     </td>\n",
      "     <td class=\"postseason tp\">\n",
      "     </td>\n",
      "     <td class=\"postseason pim\">\n",
      "     </td>\n",
      "     <td class=\"postseason pm\">\n",
      "     </td>\n",
      "    </tr>\n",
      "    <tr class=\"team-continent-NA\">\n",
      "     <td class=\"season sorted\">\n",
      "      2016-17\n",
      "     </td>\n",
      "     <td class=\"team\">\n",
      "      <i>\n",
      "       <img src=\"images/flag.png\"/>\n",
      "      </i>\n",
      "      <span class=\"txt-blue\">\n",
      "       <a href=\"https://www.eliteprospects.com/team/10263/mit-mass.-inst.-of-tech./2016-2017?tab=stats\">\n",
      "        MIT (Mass. Inst. of Tech.)\n",
      "       </a>\n",
      "      </span>\n",
      "     </td>\n",
      "     <td class=\"league\">\n",
      "      <a href=\"https://www.eliteprospects.com/league/acha-ii/stats/2016-2017\">\n",
      "       ACHA II\n",
      "      </a>\n",
      "     </td>\n",
      "     <td class=\"regular gp\">\n",
      "      12\n",
      "     </td>\n",
      "     <td class=\"regular g\">\n",
      "      5\n",
      "     </td>\n",
      "     <td class=\"regular a\">\n",
      "      5\n",
      "     </td>\n",
      "     <td class=\"regular tp\">\n",
      "      10\n",
      "     </td>\n",
      "     <td class=\"regular pim\">\n",
      "      8\n",
      "     </td>\n",
      "     <td class=\"regular pm\">\n",
      "      0\n",
      "     </td>\n",
      "     <td class=\"separator\">\n",
      "      |\n",
      "     </td>\n",
      "     <td class=\"postseason\">\n",
      "     </td>\n",
      "     <td class=\"postseason gp\">\n",
      "     </td>\n",
      "     <td class=\"postseason g\">\n",
      "     </td>\n",
      "     <td class=\"postseason a\">\n",
      "     </td>\n",
      "     <td class=\"postseason tp\">\n",
      "     </td>\n",
      "     <td class=\"postseason pim\">\n",
      "     </td>\n",
      "     <td class=\"postseason pm\">\n",
      "     </td>\n",
      "    </tr>\n",
      "    <tr class=\"team-continent-EU\">\n",
      "     <td class=\"season sorted\">\n",
      "      2017-18\n",
      "     </td>\n",
      "     <td class=\"team\">\n",
      "      Did not play\n",
      "     </td>\n",
      "     <td class=\"league\">\n",
      "      <a href=\"https://www.eliteprospects.com/stats\">\n",
      "      </a>\n",
      "     </td>\n",
      "     <td class=\"regular gp\">\n",
      "     </td>\n",
      "     <td class=\"regular g\">\n",
      "     </td>\n",
      "     <td class=\"regular a\">\n",
      "     </td>\n",
      "     <td class=\"regular tp\">\n",
      "     </td>\n",
      "     <td class=\"regular pim\">\n",
      "     </td>\n",
      "     <td class=\"regular pm\">\n",
      "     </td>\n",
      "     <td class=\"separator\">\n",
      "      |\n",
      "     </td>\n",
      "     <td class=\"postseason\">\n",
      "      <a href=\"https://www.eliteprospects.com/stats\">\n",
      "      </a>\n",
      "     </td>\n",
      "     <td class=\"postseason gp\">\n",
      "     </td>\n",
      "     <td class=\"postseason g\">\n",
      "     </td>\n",
      "     <td class=\"postseason a\">\n",
      "     </td>\n",
      "     <td class=\"postseason tp\">\n",
      "     </td>\n",
      "     <td class=\"postseason pim\">\n",
      "     </td>\n",
      "     <td class=\"postseason pm\">\n",
      "     </td>\n",
      "    </tr>\n",
      "    <tr class=\"team-continent-NA\">\n",
      "     <td class=\"season sorted\">\n",
      "      2018-19\n",
      "     </td>\n",
      "     <td class=\"team\">\n",
      "      <i>\n",
      "       <img src=\"images/flag.png\"/>\n",
      "      </i>\n",
      "      <span class=\"txt-blue\">\n",
      "       <a href=\"https://www.eliteprospects.com/team/10263/mit-mass.-inst.-of-tech./2018-2019?tab=stats\">\n",
      "        MIT (Mass. Inst. of Tech.)\n",
      "       </a>\n",
      "      </span>\n",
      "     </td>\n",
      "     <td class=\"league\">\n",
      "      <a href=\"https://www.eliteprospects.com/league/acha-iii/stats/2018-2019\">\n",
      "       ACHA III\n",
      "      </a>\n",
      "     </td>\n",
      "     <td class=\"regular gp\">\n",
      "      8\n",
      "     </td>\n",
      "     <td class=\"regular g\">\n",
      "      5\n",
      "     </td>\n",
      "     <td class=\"regular a\">\n",
      "      10\n",
      "     </td>\n",
      "     <td class=\"regular tp\">\n",
      "      15\n",
      "     </td>\n",
      "     <td class=\"regular pim\">\n",
      "      8\n",
      "     </td>\n",
      "     <td class=\"regular pm\">\n",
      "     </td>\n",
      "     <td class=\"separator\">\n",
      "      |\n",
      "     </td>\n",
      "     <td class=\"postseason\">\n",
      "      <a href=\"https://www.eliteprospects.com/league/acha-iii/stats/2018-2019\">\n",
      "      </a>\n",
      "     </td>\n",
      "     <td class=\"postseason gp\">\n",
      "     </td>\n",
      "     <td class=\"postseason g\">\n",
      "     </td>\n",
      "     <td class=\"postseason a\">\n",
      "     </td>\n",
      "     <td class=\"postseason tp\">\n",
      "     </td>\n",
      "     <td class=\"postseason pim\">\n",
      "     </td>\n",
      "     <td class=\"postseason pm\">\n",
      "     </td>\n",
      "    </tr>\n",
      "   </tbody>\n",
      "  </table>\n",
      "  <h2>\n",
      "   Mystery Message Challenge!\n",
      "  </h2>\n",
      "  <p>\n",
      "   If you scrape the links below grabbing the &lt;p&gt; tag with id=\"secret-word\", you'll discover a secret message :)\n",
      "  </p>\n",
      "  <div width=\"50%\">\n",
      "   <div align=\"left\" class=\"block\">\n",
      "    <ul>\n",
      "     <li>\n",
      "      <a href=\"challenge/file_1.html\">\n",
      "       File 1\n",
      "      </a>\n",
      "     </li>\n",
      "     <li>\n",
      "      <a href=\"challenge/file_2.html\">\n",
      "       File 2\n",
      "      </a>\n",
      "     </li>\n",
      "     <li>\n",
      "      <a href=\"challenge/file_3.html\">\n",
      "       File 3\n",
      "      </a>\n",
      "     </li>\n",
      "     <li>\n",
      "      <a href=\"challenge/file_4.html\">\n",
      "       File 4\n",
      "      </a>\n",
      "     </li>\n",
      "     <li>\n",
      "      <a href=\"challenge/file_5.html\">\n",
      "       File 5\n",
      "      </a>\n",
      "     </li>\n",
      "    </ul>\n",
      "   </div>\n",
      "   <div align=\"center\" class=\"block\">\n",
      "    <ul>\n",
      "     <li>\n",
      "      <a href=\"challenge/file_6.html\">\n",
      "       File 6\n",
      "      </a>\n",
      "     </li>\n",
      "     <li>\n",
      "      <a href=\"challenge/file_7.html\">\n",
      "       File 7\n",
      "      </a>\n",
      "     </li>\n",
      "     <li>\n",
      "      <a href=\"challenge/file_8.html\">\n",
      "       File 8\n",
      "      </a>\n",
      "     </li>\n",
      "     <li>\n",
      "      <a href=\"challenge/file_9.html\">\n",
      "       File 9\n",
      "      </a>\n",
      "     </li>\n",
      "     <li>\n",
      "      <a href=\"challenge/file_10.html\">\n",
      "       File 10\n",
      "      </a>\n",
      "     </li>\n",
      "    </ul>\n",
      "   </div>\n",
      "  </div>\n",
      "  <h2>\n",
      "   Footnotes\n",
      "  </h2>\n",
      "  <p id=\"footer\">\n",
      "   1. This was actually a minivan that I named Debora. Maybe not my dream car, but I loved her nonetheless.\n",
      "  </p>\n",
      " </body>\n",
      "</html>\n"
     ]
    }
   ],
   "source": [
    "# Load the webpage content\n",
    "r = requests.get('https://keithgalli.github.io/web-scraping/webpage.html')\n",
    "#r = requests.get('https://www.youtube.com/lexologics/video')\n",
    "\n",
    "# Convert to a Beautifulsoup object\n",
    "webpage = bs(r.content)\n",
    "\n",
    "# Print out our html\n",
    "print(webpage.prettify())"
   ]
  },
  {
   "cell_type": "markdown",
   "metadata": {},
   "source": [
    "### Grab all of the social links from the webpage\n",
    "Do this in at least 3 diffrent ways"
   ]
  },
  {
   "cell_type": "markdown",
   "metadata": {},
   "source": [
    "#### Version 1"
   ]
  },
  {
   "cell_type": "code",
   "execution_count": 5,
   "metadata": {
    "scrolled": true
   },
   "outputs": [
    {
     "data": {
      "text/plain": [
       "[<a href=\"https://www.youtube.com/kgmit\">youtube.com/kgmit</a>,\n",
       " <a href=\"#footer\"><sup>1</sup></a>,\n",
       " <a href=\"https://www.instagram.com/keithgalli/\">https://www.instagram.com/keithgalli/</a>,\n",
       " <a href=\"https://twitter.com/keithgalli\">https://twitter.com/keithgalli</a>,\n",
       " <a href=\"https://www.linkedin.com/in/keithgalli/\">https://www.linkedin.com/in/keithgalli/</a>,\n",
       " <a href=\"https://www.tiktok.com/@keithgalli\">https://www.tiktok.com/@keithgalli</a>,\n",
       " <a href=\"https://www.eliteprospects.com/team/10263/mit-mass.-inst.-of-tech./2014-2015?tab=stats\"> MIT (Mass. Inst. of Tech.) </a>,\n",
       " <a href=\"https://www.eliteprospects.com/league/acha-ii/stats/2014-2015\"> ACHA II </a>,\n",
       " <a href=\"https://www.eliteprospects.com/league/acha-ii/stats/2014-2015\"> </a>,\n",
       " <a href=\"https://www.eliteprospects.com/team/10263/mit-mass.-inst.-of-tech./2015-2016?tab=stats\"> MIT (Mass. Inst. of Tech.) </a>,\n",
       " <a href=\"https://www.eliteprospects.com/league/acha-ii/stats/2015-2016\"> ACHA II </a>,\n",
       " <a href=\"https://www.eliteprospects.com/league/acha-ii/stats/2015-2016\"> </a>,\n",
       " <a href=\"https://www.eliteprospects.com/team/10263/mit-mass.-inst.-of-tech./2016-2017?tab=stats\"> MIT (Mass. Inst. of Tech.) </a>,\n",
       " <a href=\"https://www.eliteprospects.com/league/acha-ii/stats/2016-2017\"> ACHA II </a>,\n",
       " <a href=\"https://www.eliteprospects.com/stats\"> </a>,\n",
       " <a href=\"https://www.eliteprospects.com/stats\"> </a>,\n",
       " <a href=\"https://www.eliteprospects.com/team/10263/mit-mass.-inst.-of-tech./2018-2019?tab=stats\"> MIT (Mass. Inst. of Tech.) </a>,\n",
       " <a href=\"https://www.eliteprospects.com/league/acha-iii/stats/2018-2019\"> ACHA III </a>,\n",
       " <a href=\"https://www.eliteprospects.com/league/acha-iii/stats/2018-2019\"> </a>,\n",
       " <a href=\"challenge/file_1.html\">File 1</a>,\n",
       " <a href=\"challenge/file_2.html\">File 2</a>,\n",
       " <a href=\"challenge/file_3.html\">File 3</a>,\n",
       " <a href=\"challenge/file_4.html\">File 4</a>,\n",
       " <a href=\"challenge/file_5.html\">File 5</a>,\n",
       " <a href=\"challenge/file_6.html\">File 6</a>,\n",
       " <a href=\"challenge/file_7.html\">File 7</a>,\n",
       " <a href=\"challenge/file_8.html\">File 8</a>,\n",
       " <a href=\"challenge/file_9.html\">File 9</a>,\n",
       " <a href=\"challenge/file_10.html\">File 10</a>]"
      ]
     },
     "execution_count": 5,
     "metadata": {},
     "output_type": "execute_result"
    }
   ],
   "source": [
    "link = webpage.select('a')\n",
    "link"
   ]
  },
  {
   "cell_type": "code",
   "execution_count": 6,
   "metadata": {},
   "outputs": [
    {
     "data": {
      "text/plain": [
       "[<a href=\"https://www.instagram.com/keithgalli/\">https://www.instagram.com/keithgalli/</a>,\n",
       " <a href=\"https://twitter.com/keithgalli\">https://twitter.com/keithgalli</a>,\n",
       " <a href=\"https://www.linkedin.com/in/keithgalli/\">https://www.linkedin.com/in/keithgalli/</a>,\n",
       " <a href=\"https://www.tiktok.com/@keithgalli\">https://www.tiktok.com/@keithgalli</a>]"
      ]
     },
     "execution_count": 6,
     "metadata": {},
     "output_type": "execute_result"
    }
   ],
   "source": [
    "links = webpage.select('ul.socials a')\n",
    "links"
   ]
  },
  {
   "cell_type": "code",
   "execution_count": 7,
   "metadata": {},
   "outputs": [
    {
     "data": {
      "text/plain": [
       "['https://www.instagram.com/keithgalli/',\n",
       " 'https://twitter.com/keithgalli',\n",
       " 'https://www.linkedin.com/in/keithgalli/',\n",
       " 'https://www.tiktok.com/@keithgalli']"
      ]
     },
     "execution_count": 7,
     "metadata": {},
     "output_type": "execute_result"
    }
   ],
   "source": [
    "actual_links = [link['href'] for link in links]\n",
    "actual_links"
   ]
  },
  {
   "cell_type": "markdown",
   "metadata": {},
   "source": [
    "#### version 2"
   ]
  },
  {
   "cell_type": "code",
   "execution_count": 8,
   "metadata": {},
   "outputs": [
    {
     "data": {
      "text/plain": [
       "<a href=\"https://www.youtube.com/kgmit\">youtube.com/kgmit</a>"
      ]
     },
     "execution_count": 8,
     "metadata": {},
     "output_type": "execute_result"
    }
   ],
   "source": [
    "links = webpage.find('a')\n",
    "links"
   ]
  },
  {
   "cell_type": "code",
   "execution_count": 9,
   "metadata": {},
   "outputs": [
    {
     "data": {
      "text/plain": [
       "<ul class=\"fun-facts\">\n",
       "<li>Owned my dream car in high school <a href=\"#footer\"><sup>1</sup></a></li>\n",
       "<li>Middle name is Ronald</li>\n",
       "<li>Never had been on a plane until college</li>\n",
       "<li>Dunkin Donuts coffee is better than Starbucks</li>\n",
       "<li>A favorite book series of mine is <i>Ender's Game</i></li>\n",
       "<li>Current video game of choice is <i>Rocket League</i></li>\n",
       "<li>The band that I've seen the most times live is the <i>Zac Brown Band</i></li>\n",
       "</ul>"
      ]
     },
     "execution_count": 9,
     "metadata": {},
     "output_type": "execute_result"
    }
   ],
   "source": [
    "links = webpage.find('ul')\n",
    "links"
   ]
  },
  {
   "cell_type": "code",
   "execution_count": 12,
   "metadata": {},
   "outputs": [
    {
     "data": {
      "text/plain": [
       "<ul class=\"socials\">\n",
       "<li class=\"social instagram\"><b>Instagram: </b><a href=\"https://www.instagram.com/keithgalli/\">https://www.instagram.com/keithgalli/</a></li>\n",
       "<li class=\"social twitter\"><b>Twitter: </b><a href=\"https://twitter.com/keithgalli\">https://twitter.com/keithgalli</a></li>\n",
       "<li class=\"social linkedin\"><b>LinkedIn: </b><a href=\"https://www.linkedin.com/in/keithgalli/\">https://www.linkedin.com/in/keithgalli/</a></li>\n",
       "<li class=\"social tiktok\"><b>TikTok: </b><a href=\"https://www.tiktok.com/@keithgalli\">https://www.tiktok.com/@keithgalli</a></li>\n",
       "</ul>"
      ]
     },
     "execution_count": 12,
     "metadata": {},
     "output_type": "execute_result"
    }
   ],
   "source": [
    "links = webpage.find('ul', attrs={'class': 'socials'})\n",
    "links"
   ]
  },
  {
   "cell_type": "code",
   "execution_count": 16,
   "metadata": {},
   "outputs": [
    {
     "data": {
      "text/plain": [
       "[<a href=\"https://www.instagram.com/keithgalli/\">https://www.instagram.com/keithgalli/</a>,\n",
       " <a href=\"https://twitter.com/keithgalli\">https://twitter.com/keithgalli</a>,\n",
       " <a href=\"https://www.linkedin.com/in/keithgalli/\">https://www.linkedin.com/in/keithgalli/</a>,\n",
       " <a href=\"https://www.tiktok.com/@keithgalli\">https://www.tiktok.com/@keithgalli</a>]"
      ]
     },
     "execution_count": 16,
     "metadata": {},
     "output_type": "execute_result"
    }
   ],
   "source": [
    "ulist = webpage.find('ul', attrs={'class': 'socials'})\n",
    "links = ulist.find_all('a')\n",
    "links"
   ]
  },
  {
   "cell_type": "code",
   "execution_count": 17,
   "metadata": {},
   "outputs": [
    {
     "data": {
      "text/plain": [
       "['https://www.instagram.com/keithgalli/',\n",
       " 'https://twitter.com/keithgalli',\n",
       " 'https://www.linkedin.com/in/keithgalli/',\n",
       " 'https://www.tiktok.com/@keithgalli']"
      ]
     },
     "execution_count": 17,
     "metadata": {},
     "output_type": "execute_result"
    }
   ],
   "source": [
    "actual_links = [link['href'] for link in links]\n",
    "actual_links"
   ]
  },
  {
   "cell_type": "code",
   "execution_count": 18,
   "metadata": {},
   "outputs": [
    {
     "data": {
      "text/plain": [
       "[<a href=\"https://www.instagram.com/keithgalli/\">https://www.instagram.com/keithgalli/</a>,\n",
       " <a href=\"https://twitter.com/keithgalli\">https://twitter.com/keithgalli</a>,\n",
       " <a href=\"https://www.linkedin.com/in/keithgalli/\">https://www.linkedin.com/in/keithgalli/</a>,\n",
       " <a href=\"https://www.tiktok.com/@keithgalli\">https://www.tiktok.com/@keithgalli</a>]"
      ]
     },
     "execution_count": 18,
     "metadata": {},
     "output_type": "execute_result"
    }
   ],
   "source": [
    "links = webpage.select('li.social a')\n",
    "links"
   ]
  },
  {
   "cell_type": "markdown",
   "metadata": {},
   "source": [
    "# Exercise 2"
   ]
  },
  {
   "cell_type": "code",
   "execution_count": 19,
   "metadata": {
    "scrolled": true
   },
   "outputs": [
    {
     "data": {
      "text/plain": [
       "[<table class=\"hockey-stats\">\n",
       " <thead>\n",
       " <tr>\n",
       " <th class=\"season\" data-sort=\"\">S</th>\n",
       " <th class=\"team\" data-sort=\"team\">Team</th>\n",
       " <th class=\"league\" data-sort=\"league\">League</th>\n",
       " <th class=\"regular gp\" data-sort=\"gp\">GP</th>\n",
       " <th class=\"regular g\" data-sort=\"g\">G</th>\n",
       " <th class=\"regular a\" data-sort=\"a\">A</th>\n",
       " <th class=\"regular tp\" data-sort=\"tp\">TP</th>\n",
       " <th class=\"regular pim\" data-sort=\"pim\">PIM</th>\n",
       " <th class=\"regular pm\" data-sort=\"pm\">+/-</th>\n",
       " <th class=\"separator\"> </th>\n",
       " <th class=\"postseason\">POST</th>\n",
       " <th class=\"postseason gp\" data-sort=\"playoffs-gp\">GP</th>\n",
       " <th class=\"postseason g\" data-sort=\"playoffs-g\">G</th>\n",
       " <th class=\"postseason a\" data-sort=\"playoffs-a\">A</th>\n",
       " <th class=\"postseason tp\" data-sort=\"playoffs-tp\">TP</th>\n",
       " <th class=\"postseason pim\" data-sort=\"playoffs-pim\">PIM</th>\n",
       " <th class=\"postseason pm\" data-sort=\"playoffs-pm\">+/-</th>\n",
       " </tr>\n",
       " </thead>\n",
       " <tbody>\n",
       " <tr class=\"team-continent-NA\">\n",
       " <td class=\"season sorted\">\n",
       "                   2014-15\n",
       "               </td>\n",
       " <td class=\"team\">\n",
       " <i><img src=\"images/flag.png\"/></i>\n",
       " <span class=\"txt-blue\">\n",
       " <a href=\"https://www.eliteprospects.com/team/10263/mit-mass.-inst.-of-tech./2014-2015?tab=stats\"> MIT (Mass. Inst. of Tech.) </a>\n",
       " </span>\n",
       " </td>\n",
       " <td class=\"league\"> <a href=\"https://www.eliteprospects.com/league/acha-ii/stats/2014-2015\"> ACHA II </a> </td>\n",
       " <td class=\"regular gp\">17</td>\n",
       " <td class=\"regular g\">3</td>\n",
       " <td class=\"regular a\">9</td>\n",
       " <td class=\"regular tp\">12</td>\n",
       " <td class=\"regular pim\">20</td>\n",
       " <td class=\"regular pm\"></td>\n",
       " <td class=\"separator\"> | </td>\n",
       " <td class=\"postseason\">\n",
       " <a href=\"https://www.eliteprospects.com/league/acha-ii/stats/2014-2015\"> </a>\n",
       " </td>\n",
       " <td class=\"postseason gp\">\n",
       " </td>\n",
       " <td class=\"postseason g\">\n",
       " </td>\n",
       " <td class=\"postseason a\">\n",
       " </td>\n",
       " <td class=\"postseason tp\">\n",
       " </td>\n",
       " <td class=\"postseason pim\">\n",
       " </td>\n",
       " <td class=\"postseason pm\">\n",
       " </td>\n",
       " </tr>\n",
       " <tr class=\"team-continent-NA\">\n",
       " <td class=\"season sorted\">\n",
       "                   2015-16\n",
       "               </td>\n",
       " <td class=\"team\">\n",
       " <i><img src=\"images/flag.png\"/></i>\n",
       " <span class=\"txt-blue\">\n",
       " <a href=\"https://www.eliteprospects.com/team/10263/mit-mass.-inst.-of-tech./2015-2016?tab=stats\"> MIT (Mass. Inst. of Tech.) </a>\n",
       " </span>\n",
       " </td>\n",
       " <td class=\"league\"> <a href=\"https://www.eliteprospects.com/league/acha-ii/stats/2015-2016\"> ACHA II </a> </td>\n",
       " <td class=\"regular gp\">9</td>\n",
       " <td class=\"regular g\">1</td>\n",
       " <td class=\"regular a\">1</td>\n",
       " <td class=\"regular tp\">2</td>\n",
       " <td class=\"regular pim\">2</td>\n",
       " <td class=\"regular pm\"></td>\n",
       " <td class=\"separator\"> | </td>\n",
       " <td class=\"postseason\">\n",
       " <a href=\"https://www.eliteprospects.com/league/acha-ii/stats/2015-2016\"> </a>\n",
       " </td>\n",
       " <td class=\"postseason gp\">\n",
       " </td>\n",
       " <td class=\"postseason g\">\n",
       " </td>\n",
       " <td class=\"postseason a\">\n",
       " </td>\n",
       " <td class=\"postseason tp\">\n",
       " </td>\n",
       " <td class=\"postseason pim\">\n",
       " </td>\n",
       " <td class=\"postseason pm\">\n",
       " </td>\n",
       " </tr>\n",
       " <tr class=\"team-continent-NA\">\n",
       " <td class=\"season sorted\">\n",
       "                   2016-17\n",
       "               </td>\n",
       " <td class=\"team\">\n",
       " <i><img src=\"images/flag.png\"/></i>\n",
       " <span class=\"txt-blue\">\n",
       " <a href=\"https://www.eliteprospects.com/team/10263/mit-mass.-inst.-of-tech./2016-2017?tab=stats\"> MIT (Mass. Inst. of Tech.) </a>\n",
       " </span>\n",
       " </td>\n",
       " <td class=\"league\"> <a href=\"https://www.eliteprospects.com/league/acha-ii/stats/2016-2017\"> ACHA II </a> </td>\n",
       " <td class=\"regular gp\">12</td>\n",
       " <td class=\"regular g\">5</td>\n",
       " <td class=\"regular a\">5</td>\n",
       " <td class=\"regular tp\">10</td>\n",
       " <td class=\"regular pim\">8</td>\n",
       " <td class=\"regular pm\">0</td>\n",
       " <td class=\"separator\"> | </td>\n",
       " <td class=\"postseason\">\n",
       " </td>\n",
       " <td class=\"postseason gp\">\n",
       " </td>\n",
       " <td class=\"postseason g\">\n",
       " </td>\n",
       " <td class=\"postseason a\">\n",
       " </td>\n",
       " <td class=\"postseason tp\">\n",
       " </td>\n",
       " <td class=\"postseason pim\">\n",
       " </td>\n",
       " <td class=\"postseason pm\">\n",
       " </td>\n",
       " </tr>\n",
       " <tr class=\"team-continent-EU\">\n",
       " <td class=\"season sorted\">\n",
       "                   2017-18\n",
       "               </td>\n",
       " <td class=\"team\">\n",
       "                   Did not play\n",
       "               </td>\n",
       " <td class=\"league\"> <a href=\"https://www.eliteprospects.com/stats\"> </a> </td>\n",
       " <td class=\"regular gp\"></td>\n",
       " <td class=\"regular g\"></td>\n",
       " <td class=\"regular a\"></td>\n",
       " <td class=\"regular tp\"></td>\n",
       " <td class=\"regular pim\"></td>\n",
       " <td class=\"regular pm\"></td>\n",
       " <td class=\"separator\"> | </td>\n",
       " <td class=\"postseason\">\n",
       " <a href=\"https://www.eliteprospects.com/stats\"> </a>\n",
       " </td>\n",
       " <td class=\"postseason gp\">\n",
       " </td>\n",
       " <td class=\"postseason g\">\n",
       " </td>\n",
       " <td class=\"postseason a\">\n",
       " </td>\n",
       " <td class=\"postseason tp\">\n",
       " </td>\n",
       " <td class=\"postseason pim\">\n",
       " </td>\n",
       " <td class=\"postseason pm\">\n",
       " </td>\n",
       " </tr>\n",
       " <tr class=\"team-continent-NA\">\n",
       " <td class=\"season sorted\">\n",
       "                   2018-19\n",
       "               </td>\n",
       " <td class=\"team\">\n",
       " <i><img src=\"images/flag.png\"/></i>\n",
       " <span class=\"txt-blue\">\n",
       " <a href=\"https://www.eliteprospects.com/team/10263/mit-mass.-inst.-of-tech./2018-2019?tab=stats\"> MIT (Mass. Inst. of Tech.) </a>\n",
       " </span>\n",
       " </td>\n",
       " <td class=\"league\"> <a href=\"https://www.eliteprospects.com/league/acha-iii/stats/2018-2019\"> ACHA III </a> </td>\n",
       " <td class=\"regular gp\">8</td>\n",
       " <td class=\"regular g\">5</td>\n",
       " <td class=\"regular a\">10</td>\n",
       " <td class=\"regular tp\">15</td>\n",
       " <td class=\"regular pim\">8</td>\n",
       " <td class=\"regular pm\"></td>\n",
       " <td class=\"separator\"> | </td>\n",
       " <td class=\"postseason\">\n",
       " <a href=\"https://www.eliteprospects.com/league/acha-iii/stats/2018-2019\"> </a>\n",
       " </td>\n",
       " <td class=\"postseason gp\">\n",
       " </td>\n",
       " <td class=\"postseason g\">\n",
       " </td>\n",
       " <td class=\"postseason a\">\n",
       " </td>\n",
       " <td class=\"postseason tp\">\n",
       " </td>\n",
       " <td class=\"postseason pim\">\n",
       " </td>\n",
       " <td class=\"postseason pm\">\n",
       " </td>\n",
       " </tr>\n",
       " </tbody>\n",
       " </table>]"
      ]
     },
     "execution_count": 19,
     "metadata": {},
     "output_type": "execute_result"
    }
   ],
   "source": [
    "table = webpage.select('table.hockey-stats')\n",
    "table"
   ]
  },
  {
   "cell_type": "code",
   "execution_count": 21,
   "metadata": {},
   "outputs": [
    {
     "data": {
      "text/plain": [
       "['S',\n",
       " 'Team',\n",
       " 'League',\n",
       " 'GP',\n",
       " 'G',\n",
       " 'A',\n",
       " 'TP',\n",
       " 'PIM',\n",
       " '+/-',\n",
       " '\\xa0',\n",
       " 'POST',\n",
       " 'GP',\n",
       " 'G',\n",
       " 'A',\n",
       " 'TP',\n",
       " 'PIM',\n",
       " '+/-']"
      ]
     },
     "execution_count": 21,
     "metadata": {},
     "output_type": "execute_result"
    }
   ],
   "source": [
    "table = webpage.select('table.hockey-stats')[0]\n",
    "columns = table.find('thead').find_all('th')\n",
    "column_names = [c.string for c in columns]\n",
    "#column_names"
   ]
  },
  {
   "cell_type": "code",
   "execution_count": 33,
   "metadata": {},
   "outputs": [
    {
     "name": "stdout",
     "output_type": "stream",
     "text": [
      "[['2014-15', 'MIT (Mass. Inst. of Tech.)', 'ACHA II', '17', '3', '9', '12', '20', '', '|', '', '', '', '', '', '', ''], ['2015-16', 'MIT (Mass. Inst. of Tech.)', 'ACHA II', '9', '1', '1', '2', '2', '', '|', '', '', '', '', '', '', ''], ['2016-17', 'MIT (Mass. Inst. of Tech.)', 'ACHA II', '12', '5', '5', '10', '8', '0', '|', '', '', '', '', '', '', ''], ['2017-18', 'Did not play', '', '', '', '', '', '', '', '|', '', '', '', '', '', '', ''], ['2018-19', 'MIT (Mass. Inst. of Tech.)', 'ACHA III', '8', '5', '10', '15', '8', '', '|', '', '', '', '', '', '', '']]\n"
     ]
    }
   ],
   "source": [
    "table_rows = table.find('tbody').find_all('tr')\n",
    "l = []\n",
    "for tr in table_rows:\n",
    "    td = tr.find_all('td')\n",
    "    row = [str(tr.get_text()).strip() for tr in td]\n",
    "    l.append(row)\n",
    "    \n",
    "print(l)    "
   ]
  },
  {
   "cell_type": "code",
   "execution_count": 34,
   "metadata": {},
   "outputs": [
    {
     "name": "stdout",
     "output_type": "stream",
     "text": [
      "['2017-18', 'Did not play', '', '', '', '', '', '', '', '|', '', '', '', '', '', '', '']\n"
     ]
    }
   ],
   "source": [
    "print(l[3])"
   ]
  },
  {
   "cell_type": "code",
   "execution_count": 35,
   "metadata": {},
   "outputs": [
    {
     "data": {
      "text/html": [
       "<div>\n",
       "<style scoped>\n",
       "    .dataframe tbody tr th:only-of-type {\n",
       "        vertical-align: middle;\n",
       "    }\n",
       "\n",
       "    .dataframe tbody tr th {\n",
       "        vertical-align: top;\n",
       "    }\n",
       "\n",
       "    .dataframe thead th {\n",
       "        text-align: right;\n",
       "    }\n",
       "</style>\n",
       "<table border=\"1\" class=\"dataframe\">\n",
       "  <thead>\n",
       "    <tr style=\"text-align: right;\">\n",
       "      <th></th>\n",
       "      <th>S</th>\n",
       "      <th>Team</th>\n",
       "      <th>League</th>\n",
       "      <th>GP</th>\n",
       "      <th>G</th>\n",
       "      <th>A</th>\n",
       "      <th>TP</th>\n",
       "      <th>PIM</th>\n",
       "      <th>+/-</th>\n",
       "      <th></th>\n",
       "      <th>POST</th>\n",
       "      <th>GP</th>\n",
       "      <th>G</th>\n",
       "      <th>A</th>\n",
       "      <th>TP</th>\n",
       "      <th>PIM</th>\n",
       "      <th>+/-</th>\n",
       "    </tr>\n",
       "  </thead>\n",
       "  <tbody>\n",
       "    <tr>\n",
       "      <th>0</th>\n",
       "      <td>2014-15</td>\n",
       "      <td>MIT (Mass. Inst. of Tech.)</td>\n",
       "      <td>ACHA II</td>\n",
       "      <td>17</td>\n",
       "      <td>3</td>\n",
       "      <td>9</td>\n",
       "      <td>12</td>\n",
       "      <td>20</td>\n",
       "      <td></td>\n",
       "      <td>|</td>\n",
       "      <td></td>\n",
       "      <td></td>\n",
       "      <td></td>\n",
       "      <td></td>\n",
       "      <td></td>\n",
       "      <td></td>\n",
       "      <td></td>\n",
       "    </tr>\n",
       "    <tr>\n",
       "      <th>1</th>\n",
       "      <td>2015-16</td>\n",
       "      <td>MIT (Mass. Inst. of Tech.)</td>\n",
       "      <td>ACHA II</td>\n",
       "      <td>9</td>\n",
       "      <td>1</td>\n",
       "      <td>1</td>\n",
       "      <td>2</td>\n",
       "      <td>2</td>\n",
       "      <td></td>\n",
       "      <td>|</td>\n",
       "      <td></td>\n",
       "      <td></td>\n",
       "      <td></td>\n",
       "      <td></td>\n",
       "      <td></td>\n",
       "      <td></td>\n",
       "      <td></td>\n",
       "    </tr>\n",
       "    <tr>\n",
       "      <th>2</th>\n",
       "      <td>2016-17</td>\n",
       "      <td>MIT (Mass. Inst. of Tech.)</td>\n",
       "      <td>ACHA II</td>\n",
       "      <td>12</td>\n",
       "      <td>5</td>\n",
       "      <td>5</td>\n",
       "      <td>10</td>\n",
       "      <td>8</td>\n",
       "      <td>0</td>\n",
       "      <td>|</td>\n",
       "      <td></td>\n",
       "      <td></td>\n",
       "      <td></td>\n",
       "      <td></td>\n",
       "      <td></td>\n",
       "      <td></td>\n",
       "      <td></td>\n",
       "    </tr>\n",
       "    <tr>\n",
       "      <th>3</th>\n",
       "      <td>2017-18</td>\n",
       "      <td>Did not play</td>\n",
       "      <td></td>\n",
       "      <td></td>\n",
       "      <td></td>\n",
       "      <td></td>\n",
       "      <td></td>\n",
       "      <td></td>\n",
       "      <td></td>\n",
       "      <td>|</td>\n",
       "      <td></td>\n",
       "      <td></td>\n",
       "      <td></td>\n",
       "      <td></td>\n",
       "      <td></td>\n",
       "      <td></td>\n",
       "      <td></td>\n",
       "    </tr>\n",
       "    <tr>\n",
       "      <th>4</th>\n",
       "      <td>2018-19</td>\n",
       "      <td>MIT (Mass. Inst. of Tech.)</td>\n",
       "      <td>ACHA III</td>\n",
       "      <td>8</td>\n",
       "      <td>5</td>\n",
       "      <td>10</td>\n",
       "      <td>15</td>\n",
       "      <td>8</td>\n",
       "      <td></td>\n",
       "      <td>|</td>\n",
       "      <td></td>\n",
       "      <td></td>\n",
       "      <td></td>\n",
       "      <td></td>\n",
       "      <td></td>\n",
       "      <td></td>\n",
       "      <td></td>\n",
       "    </tr>\n",
       "  </tbody>\n",
       "</table>\n",
       "</div>"
      ],
      "text/plain": [
       "         S                        Team    League  GP  G   A  TP PIM +/-     \\\n",
       "0  2014-15  MIT (Mass. Inst. of Tech.)   ACHA II  17  3   9  12  20      |   \n",
       "1  2015-16  MIT (Mass. Inst. of Tech.)   ACHA II   9  1   1   2   2      |   \n",
       "2  2016-17  MIT (Mass. Inst. of Tech.)   ACHA II  12  5   5  10   8   0  |   \n",
       "3  2017-18                Did not play                                   |   \n",
       "4  2018-19  MIT (Mass. Inst. of Tech.)  ACHA III   8  5  10  15   8      |   \n",
       "\n",
       "  POST GP G A TP PIM +/-  \n",
       "0                         \n",
       "1                         \n",
       "2                         \n",
       "3                         \n",
       "4                         "
      ]
     },
     "execution_count": 35,
     "metadata": {},
     "output_type": "execute_result"
    }
   ],
   "source": [
    "df = pd.DataFrame(l, columns=column_names)\n",
    "df.head()"
   ]
  },
  {
   "cell_type": "code",
   "execution_count": 36,
   "metadata": {},
   "outputs": [
    {
     "data": {
      "text/plain": [
       "0    MIT (Mass. Inst. of Tech.)\n",
       "1    MIT (Mass. Inst. of Tech.)\n",
       "2    MIT (Mass. Inst. of Tech.)\n",
       "3                  Did not play\n",
       "4    MIT (Mass. Inst. of Tech.)\n",
       "Name: Team, dtype: object"
      ]
     },
     "execution_count": 36,
     "metadata": {},
     "output_type": "execute_result"
    }
   ],
   "source": [
    "df['Team']"
   ]
  },
  {
   "cell_type": "code",
   "execution_count": 37,
   "metadata": {},
   "outputs": [
    {
     "data": {
      "text/html": [
       "<div>\n",
       "<style scoped>\n",
       "    .dataframe tbody tr th:only-of-type {\n",
       "        vertical-align: middle;\n",
       "    }\n",
       "\n",
       "    .dataframe tbody tr th {\n",
       "        vertical-align: top;\n",
       "    }\n",
       "\n",
       "    .dataframe thead th {\n",
       "        text-align: right;\n",
       "    }\n",
       "</style>\n",
       "<table border=\"1\" class=\"dataframe\">\n",
       "  <thead>\n",
       "    <tr style=\"text-align: right;\">\n",
       "      <th></th>\n",
       "      <th>S</th>\n",
       "      <th>Team</th>\n",
       "      <th>League</th>\n",
       "      <th>GP</th>\n",
       "      <th>G</th>\n",
       "      <th>A</th>\n",
       "      <th>TP</th>\n",
       "      <th>PIM</th>\n",
       "      <th>+/-</th>\n",
       "      <th></th>\n",
       "      <th>POST</th>\n",
       "      <th>GP</th>\n",
       "      <th>G</th>\n",
       "      <th>A</th>\n",
       "      <th>TP</th>\n",
       "      <th>PIM</th>\n",
       "      <th>+/-</th>\n",
       "    </tr>\n",
       "  </thead>\n",
       "  <tbody>\n",
       "    <tr>\n",
       "      <th>0</th>\n",
       "      <td>2014-15</td>\n",
       "      <td>MIT (Mass. Inst. of Tech.)</td>\n",
       "      <td>ACHA II</td>\n",
       "      <td>17</td>\n",
       "      <td>3</td>\n",
       "      <td>9</td>\n",
       "      <td>12</td>\n",
       "      <td>20</td>\n",
       "      <td></td>\n",
       "      <td>|</td>\n",
       "      <td></td>\n",
       "      <td></td>\n",
       "      <td></td>\n",
       "      <td></td>\n",
       "      <td></td>\n",
       "      <td></td>\n",
       "      <td></td>\n",
       "    </tr>\n",
       "    <tr>\n",
       "      <th>1</th>\n",
       "      <td>2015-16</td>\n",
       "      <td>MIT (Mass. Inst. of Tech.)</td>\n",
       "      <td>ACHA II</td>\n",
       "      <td>9</td>\n",
       "      <td>1</td>\n",
       "      <td>1</td>\n",
       "      <td>2</td>\n",
       "      <td>2</td>\n",
       "      <td></td>\n",
       "      <td>|</td>\n",
       "      <td></td>\n",
       "      <td></td>\n",
       "      <td></td>\n",
       "      <td></td>\n",
       "      <td></td>\n",
       "      <td></td>\n",
       "      <td></td>\n",
       "    </tr>\n",
       "    <tr>\n",
       "      <th>2</th>\n",
       "      <td>2016-17</td>\n",
       "      <td>MIT (Mass. Inst. of Tech.)</td>\n",
       "      <td>ACHA II</td>\n",
       "      <td>12</td>\n",
       "      <td>5</td>\n",
       "      <td>5</td>\n",
       "      <td>10</td>\n",
       "      <td>8</td>\n",
       "      <td>0</td>\n",
       "      <td>|</td>\n",
       "      <td></td>\n",
       "      <td></td>\n",
       "      <td></td>\n",
       "      <td></td>\n",
       "      <td></td>\n",
       "      <td></td>\n",
       "      <td></td>\n",
       "    </tr>\n",
       "    <tr>\n",
       "      <th>4</th>\n",
       "      <td>2018-19</td>\n",
       "      <td>MIT (Mass. Inst. of Tech.)</td>\n",
       "      <td>ACHA III</td>\n",
       "      <td>8</td>\n",
       "      <td>5</td>\n",
       "      <td>10</td>\n",
       "      <td>15</td>\n",
       "      <td>8</td>\n",
       "      <td></td>\n",
       "      <td>|</td>\n",
       "      <td></td>\n",
       "      <td></td>\n",
       "      <td></td>\n",
       "      <td></td>\n",
       "      <td></td>\n",
       "      <td></td>\n",
       "      <td></td>\n",
       "    </tr>\n",
       "  </tbody>\n",
       "</table>\n",
       "</div>"
      ],
      "text/plain": [
       "         S                        Team    League  GP  G   A  TP PIM +/-     \\\n",
       "0  2014-15  MIT (Mass. Inst. of Tech.)   ACHA II  17  3   9  12  20      |   \n",
       "1  2015-16  MIT (Mass. Inst. of Tech.)   ACHA II   9  1   1   2   2      |   \n",
       "2  2016-17  MIT (Mass. Inst. of Tech.)   ACHA II  12  5   5  10   8   0  |   \n",
       "4  2018-19  MIT (Mass. Inst. of Tech.)  ACHA III   8  5  10  15   8      |   \n",
       "\n",
       "  POST GP G A TP PIM +/-  \n",
       "0                         \n",
       "1                         \n",
       "2                         \n",
       "4                         "
      ]
     },
     "execution_count": 37,
     "metadata": {},
     "output_type": "execute_result"
    }
   ],
   "source": [
    "df.loc[df['Team'] != 'Did not play']"
   ]
  },
  {
   "cell_type": "code",
   "execution_count": 38,
   "metadata": {},
   "outputs": [
    {
     "data": {
      "text/html": [
       "<div>\n",
       "<style scoped>\n",
       "    .dataframe tbody tr th:only-of-type {\n",
       "        vertical-align: middle;\n",
       "    }\n",
       "\n",
       "    .dataframe tbody tr th {\n",
       "        vertical-align: top;\n",
       "    }\n",
       "\n",
       "    .dataframe thead th {\n",
       "        text-align: right;\n",
       "    }\n",
       "</style>\n",
       "<table border=\"1\" class=\"dataframe\">\n",
       "  <thead>\n",
       "    <tr style=\"text-align: right;\">\n",
       "      <th></th>\n",
       "      <th>S</th>\n",
       "      <th>Team</th>\n",
       "      <th>League</th>\n",
       "      <th>GP</th>\n",
       "      <th>G</th>\n",
       "      <th>A</th>\n",
       "      <th>TP</th>\n",
       "      <th>PIM</th>\n",
       "      <th>+/-</th>\n",
       "      <th></th>\n",
       "      <th>POST</th>\n",
       "      <th>GP</th>\n",
       "      <th>G</th>\n",
       "      <th>A</th>\n",
       "      <th>TP</th>\n",
       "      <th>PIM</th>\n",
       "      <th>+/-</th>\n",
       "    </tr>\n",
       "  </thead>\n",
       "  <tbody>\n",
       "    <tr>\n",
       "      <th>3</th>\n",
       "      <td>2017-18</td>\n",
       "      <td>Did not play</td>\n",
       "      <td></td>\n",
       "      <td></td>\n",
       "      <td></td>\n",
       "      <td></td>\n",
       "      <td></td>\n",
       "      <td></td>\n",
       "      <td></td>\n",
       "      <td>|</td>\n",
       "      <td></td>\n",
       "      <td></td>\n",
       "      <td></td>\n",
       "      <td></td>\n",
       "      <td></td>\n",
       "      <td></td>\n",
       "      <td></td>\n",
       "    </tr>\n",
       "  </tbody>\n",
       "</table>\n",
       "</div>"
      ],
      "text/plain": [
       "         S          Team League GP G A TP PIM +/-    POST GP G A TP PIM +/-\n",
       "3  2017-18  Did not play                           |                       "
      ]
     },
     "execution_count": 38,
     "metadata": {},
     "output_type": "execute_result"
    }
   ],
   "source": [
    "df.loc[df['Team'] == 'Did not play']"
   ]
  },
  {
   "cell_type": "code",
   "execution_count": 39,
   "metadata": {},
   "outputs": [
    {
     "data": {
      "text/plain": [
       "S                              2014-152015-162016-172018-19\n",
       "Team      MIT (Mass. Inst. of Tech.)MIT (Mass. Inst. of ...\n",
       "League                        ACHA IIACHA IIACHA IIACHA III\n",
       "GP                                                   179128\n",
       "G                                                      3155\n",
       "A                                                     91510\n",
       "TP                                                  1221015\n",
       "PIM                                                   20288\n",
       "+/-                                                       0\n",
       "                                                       ||||\n",
       "POST                                                       \n",
       "GP                                                         \n",
       "G                                                          \n",
       "A                                                          \n",
       "TP                                                         \n",
       "PIM                                                        \n",
       "+/-                                                        \n",
       "dtype: object"
      ]
     },
     "execution_count": 39,
     "metadata": {},
     "output_type": "execute_result"
    }
   ],
   "source": [
    "df.loc[df['Team'] != 'Did not play'].sum()"
   ]
  },
  {
   "cell_type": "code",
   "execution_count": 40,
   "metadata": {},
   "outputs": [
    {
     "data": {
      "text/html": [
       "<div>\n",
       "<style scoped>\n",
       "    .dataframe tbody tr th:only-of-type {\n",
       "        vertical-align: middle;\n",
       "    }\n",
       "\n",
       "    .dataframe tbody tr th {\n",
       "        vertical-align: top;\n",
       "    }\n",
       "\n",
       "    .dataframe thead th {\n",
       "        text-align: right;\n",
       "    }\n",
       "</style>\n",
       "<table border=\"1\" class=\"dataframe\">\n",
       "  <thead>\n",
       "    <tr style=\"text-align: right;\">\n",
       "      <th></th>\n",
       "      <th>GP</th>\n",
       "      <th>GP</th>\n",
       "    </tr>\n",
       "  </thead>\n",
       "  <tbody>\n",
       "    <tr>\n",
       "      <th>0</th>\n",
       "      <td>17</td>\n",
       "      <td></td>\n",
       "    </tr>\n",
       "    <tr>\n",
       "      <th>1</th>\n",
       "      <td>9</td>\n",
       "      <td></td>\n",
       "    </tr>\n",
       "    <tr>\n",
       "      <th>2</th>\n",
       "      <td>12</td>\n",
       "      <td></td>\n",
       "    </tr>\n",
       "    <tr>\n",
       "      <th>3</th>\n",
       "      <td></td>\n",
       "      <td></td>\n",
       "    </tr>\n",
       "    <tr>\n",
       "      <th>4</th>\n",
       "      <td>8</td>\n",
       "      <td></td>\n",
       "    </tr>\n",
       "  </tbody>\n",
       "</table>\n",
       "</div>"
      ],
      "text/plain": [
       "   GP GP\n",
       "0  17   \n",
       "1   9   \n",
       "2  12   \n",
       "3       \n",
       "4   8   "
      ]
     },
     "execution_count": 40,
     "metadata": {},
     "output_type": "execute_result"
    }
   ],
   "source": [
    "df['GP']"
   ]
  },
  {
   "cell_type": "markdown",
   "metadata": {},
   "source": [
    "# Exercise 3\n",
    "## Grab all fun facts that use the word \"is\""
   ]
  },
  {
   "cell_type": "code",
   "execution_count": 41,
   "metadata": {},
   "outputs": [
    {
     "data": {
      "text/plain": [
       "[<li>Owned my dream car in high school <a href=\"#footer\"><sup>1</sup></a></li>,\n",
       " <li>Middle name is Ronald</li>,\n",
       " <li>Never had been on a plane until college</li>,\n",
       " <li>Dunkin Donuts coffee is better than Starbucks</li>,\n",
       " <li>A favorite book series of mine is <i>Ender's Game</i></li>,\n",
       " <li>Current video game of choice is <i>Rocket League</i></li>,\n",
       " <li>The band that I've seen the most times live is the <i>Zac Brown Band</i></li>]"
      ]
     },
     "execution_count": 41,
     "metadata": {},
     "output_type": "execute_result"
    }
   ],
   "source": [
    "facts = webpage.select('ul.fun-facts li')\n",
    "facts"
   ]
  },
  {
   "cell_type": "code",
   "execution_count": 43,
   "metadata": {},
   "outputs": [
    {
     "data": {
      "text/plain": [
       "[None,\n",
       " 'Middle name is Ronald',\n",
       " None,\n",
       " 'Dunkin Donuts coffee is better than Starbucks',\n",
       " 'A favorite book series of mine is ',\n",
       " 'Current video game of choice is ',\n",
       " \"The band that I've seen the most times live is the \"]"
      ]
     },
     "execution_count": 43,
     "metadata": {},
     "output_type": "execute_result"
    }
   ],
   "source": [
    "facts_with_is = [fact.find(string=re.compile('is')) for fact in facts]\n",
    "facts_with_is"
   ]
  },
  {
   "cell_type": "code",
   "execution_count": 44,
   "metadata": {},
   "outputs": [
    {
     "data": {
      "text/plain": [
       "['Middle name is Ronald',\n",
       " 'Dunkin Donuts coffee is better than Starbucks',\n",
       " \"A favorite book series of mine is Ender's Game\",\n",
       " 'Current video game of choice is Rocket League',\n",
       " \"The band that I've seen the most times live is the Zac Brown Band\"]"
      ]
     },
     "execution_count": 44,
     "metadata": {},
     "output_type": "execute_result"
    }
   ],
   "source": [
    "facts_with_is = [fact.find(string=re.compile('is')) for fact in facts]\n",
    "facts_with_is = [fact.find_parent().get_text() for fact in facts_with_is if fact]\n",
    "facts_with_is"
   ]
  },
  {
   "cell_type": "code",
   "execution_count": null,
   "metadata": {},
   "outputs": [],
   "source": []
  }
 ],
 "metadata": {
  "kernelspec": {
   "display_name": "Python 3",
   "language": "python",
   "name": "python3"
  },
  "language_info": {
   "codemirror_mode": {
    "name": "ipython",
    "version": 3
   },
   "file_extension": ".py",
   "mimetype": "text/x-python",
   "name": "python",
   "nbconvert_exporter": "python",
   "pygments_lexer": "ipython3",
   "version": "3.9.1"
  }
 },
 "nbformat": 4,
 "nbformat_minor": 2
}
